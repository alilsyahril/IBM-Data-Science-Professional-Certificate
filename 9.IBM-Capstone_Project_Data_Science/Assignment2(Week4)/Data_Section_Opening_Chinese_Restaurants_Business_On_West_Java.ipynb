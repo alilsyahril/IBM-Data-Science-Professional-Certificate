{
 "cells": [
  {
   "cell_type": "markdown",
   "id": "intellectual-coffee",
   "metadata": {},
   "source": [
    "<h1><center>IBM Data Science Capstone Project Data Section</center></h1>"
   ]
  },
  {
   "cell_type": "markdown",
   "id": "better-feedback",
   "metadata": {},
   "source": [
    "### Topic : Opening a New Chinese Restaurant Business on West Java\n",
    "\n",
    "#### Author : Mohamad Nur Syahril Kaharu"
   ]
  },
  {
   "cell_type": "markdown",
   "id": "assured-blackjack",
   "metadata": {},
   "source": [
    "## Data Section"
   ]
  },
  {
   "cell_type": "markdown",
   "id": "behind-protein",
   "metadata": {},
   "source": [
    "The dataset is from https://simplemaps.com/data/id-cities. The dataset consist of 8,912 prominent cities in Indonesia, their province, and also the longitude and latitude of each cities and other relevant information. Then the data is filtered to find only the city on West Java (or 'Jawa Barat' on the dataset). The final data that will be used in this project would be the list of the cities in West Java and their longitude and latitude. Because the limitation of API calls we use (will be explained later), the city list is intentionally limited to only the top 300 cities on West Java based on the population. This is the map of the West Java and its top 300 city (representing as red circle)"
   ]
  },
  {
   "cell_type": "markdown",
   "id": "solar-exercise",
   "metadata": {},
   "source": [
    "Foursquare API is used to get the nearby Chinese Restaurant using its 'explore' API calls. This is one of the most powerful location services API. This Foursquare API allows us to find all venues and events within an area of interest, including Chinese Restaurant as long as the geospatial information such as longitude and latitude is provided."
   ]
  }
 ],
 "metadata": {
  "kernelspec": {
   "display_name": "Python 3",
   "language": "python",
   "name": "python3"
  },
  "language_info": {
   "codemirror_mode": {
    "name": "ipython",
    "version": 3
   },
   "file_extension": ".py",
   "mimetype": "text/x-python",
   "name": "python",
   "nbconvert_exporter": "python",
   "pygments_lexer": "ipython3",
   "version": "3.7.6"
  }
 },
 "nbformat": 4,
 "nbformat_minor": 5
}
