{
 "cells": [
  {
   "cell_type": "markdown",
   "id": "negative-magnet",
   "metadata": {},
   "source": [
    "<h1><center>IBM Data Science Capstone Project Business Problem</center></h1>"
   ]
  },
  {
   "cell_type": "markdown",
   "id": "alternative-somalia",
   "metadata": {},
   "source": [
    "### Topic : Opening a New Chinese Restaurant Business on West Java\n",
    "\n",
    "#### Author : Mohamad Nur Syahril Kaharu"
   ]
  },
  {
   "cell_type": "markdown",
   "id": "brilliant-museum",
   "metadata": {},
   "source": [
    "## Business Problem"
   ]
  },
  {
   "cell_type": "markdown",
   "id": "beneficial-multimedia",
   "metadata": {},
   "source": [
    "West Java as the most populous province and one of the biggest economy in Indonesia has many potential to start a new business, especially a culinary business. There are a lot of restaurants that scattered across the province, many of them is a local restaurant like indonesian or sundanese restaurant. Although there are also a lot of Chinese Restaurant, but this type of restaurant still less a lot compared to the local restaurant. This project aims to help people, particularly to a new started businessman to open their new Chinese Restaurant on West Java. It will help them to make their business decision easily based on the distribution of the Chinese Restaurant on West Java. In this project, I'm creating a hyphotetical assumptions that doesn't include the other variables to consider such as economy outlook of the city (inflation rate, unemployment number, etc) or the market behavior of people in the city which are also an important consideration. Nonetheless, this recomendation is still an important consideration to make this business decision."
   ]
  }
 ],
 "metadata": {
  "kernelspec": {
   "display_name": "Python 3",
   "language": "python",
   "name": "python3"
  },
  "language_info": {
   "codemirror_mode": {
    "name": "ipython",
    "version": 3
   },
   "file_extension": ".py",
   "mimetype": "text/x-python",
   "name": "python",
   "nbconvert_exporter": "python",
   "pygments_lexer": "ipython3",
   "version": "3.7.6"
  }
 },
 "nbformat": 4,
 "nbformat_minor": 5
}
